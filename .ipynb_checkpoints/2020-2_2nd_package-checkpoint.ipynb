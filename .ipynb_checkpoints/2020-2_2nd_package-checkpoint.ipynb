{
 "cells": [
  {
   "cell_type": "code",
   "execution_count": 0,
   "metadata": {
    "colab": {
     "base_uri": "https://localhost:8080/",
     "height": 127
    },
    "colab_type": "code",
    "executionInfo": {
     "elapsed": 48306,
     "status": "ok",
     "timestamp": 1590027462257,
     "user": {
      "displayName": "박서영",
      "photoUrl": "",
      "userId": "01596111337072598556"
     },
     "user_tz": -540
    },
    "id": "U-JC_RtfUFoq",
    "outputId": "593474d3-8ba9-4aa9-f612-9f1195590f9e"
   },
   "outputs": [
    {
     "name": "stdout",
     "output_type": "stream",
     "text": [
      "Go to this URL in a browser: https://accounts.google.com/o/oauth2/auth?client_id=947318989803-6bn6qk8qdgf4n4g3pfee6491hc0brc4i.apps.googleusercontent.com&redirect_uri=urn%3aietf%3awg%3aoauth%3a2.0%3aoob&response_type=code&scope=email%20https%3a%2f%2fwww.googleapis.com%2fauth%2fdocs.test%20https%3a%2f%2fwww.googleapis.com%2fauth%2fdrive%20https%3a%2f%2fwww.googleapis.com%2fauth%2fdrive.photos.readonly%20https%3a%2f%2fwww.googleapis.com%2fauth%2fpeopleapi.readonly\n",
      "\n",
      "Enter your authorization code:\n",
      "··········\n",
      "Mounted at /content/drive\n"
     ]
    }
   ],
   "source": [
    "# 드라이브 연동\n",
    "from google.colab import drive\n",
    "drive.mount('/content/drive')\n"
   ]
  },
  {
   "cell_type": "code",
   "execution_count": 0,
   "metadata": {
    "colab": {},
    "colab_type": "code",
    "id": "9cvAjqUGWVWN"
   },
   "outputs": [],
   "source": [
    "#0번\n",
    "direc = '/content/drive/My Drive/패키지'\n",
    "\n",
    "import os\n",
    "import pandas\n",
    "import pandas as pd\n",
    "\n",
    "os.chdir(direc)\n",
    "\n",
    "data = pd.read_csv(\"dat.csv\",encoding='utf-8')"
   ]
  },
  {
   "cell_type": "code",
   "execution_count": 0,
   "metadata": {
    "colab": {},
    "colab_type": "code",
    "id": "v2BnAQMofGYy"
   },
   "outputs": [],
   "source": [
    "data = data.dropna()"
   ]
  },
  {
   "cell_type": "code",
   "execution_count": 0,
   "metadata": {
    "colab": {
     "base_uri": "https://localhost:8080/",
     "height": 35
    },
    "colab_type": "code",
    "executionInfo": {
     "elapsed": 943,
     "status": "ok",
     "timestamp": 1590027470287,
     "user": {
      "displayName": "박서영",
      "photoUrl": "",
      "userId": "01596111337072598556"
     },
     "user_tz": -540
    },
    "id": "gTjXhUPF425A",
    "outputId": "b2e6fe59-0027-477b-dd99-4a195fff684f"
   },
   "outputs": [
    {
     "data": {
      "text/plain": [
       "4678"
      ]
     },
     "execution_count": 4,
     "metadata": {
      "tags": []
     },
     "output_type": "execute_result"
    }
   ],
   "source": [
    "len(data['class'])"
   ]
  },
  {
   "cell_type": "code",
   "execution_count": 0,
   "metadata": {
    "colab": {
     "base_uri": "https://localhost:8080/",
     "height": 204
    },
    "colab_type": "code",
    "executionInfo": {
     "elapsed": 723,
     "status": "ok",
     "timestamp": 1589987106265,
     "user": {
      "displayName": "박서영",
      "photoUrl": "",
      "userId": "01596111337072598556"
     },
     "user_tz": -540
    },
    "id": "ep_aZLJ4merP",
    "outputId": "38cf3e1a-84b6-464e-ef0f-73ccd2d77566"
   },
   "outputs": [
    {
     "data": {
      "text/html": [
       "<div>\n",
       "<style scoped>\n",
       "    .dataframe tbody tr th:only-of-type {\n",
       "        vertical-align: middle;\n",
       "    }\n",
       "\n",
       "    .dataframe tbody tr th {\n",
       "        vertical-align: top;\n",
       "    }\n",
       "\n",
       "    .dataframe thead th {\n",
       "        text-align: right;\n",
       "    }\n",
       "</style>\n",
       "<table border=\"1\" class=\"dataframe\">\n",
       "  <thead>\n",
       "    <tr style=\"text-align: right;\">\n",
       "      <th></th>\n",
       "      <th>Unnamed: 0</th>\n",
       "      <th>class</th>\n",
       "      <th>article</th>\n",
       "    </tr>\n",
       "  </thead>\n",
       "  <tbody>\n",
       "    <tr>\n",
       "      <th>0</th>\n",
       "      <td>0</td>\n",
       "      <td>film</td>\n",
       "      <td>After over monthlong delay movie Time Hunt w...</td>\n",
       "    </tr>\n",
       "    <tr>\n",
       "      <th>1</th>\n",
       "      <td>1</td>\n",
       "      <td>film</td>\n",
       "      <td>years after Sewol ferry sank dark bottom Apr...</td>\n",
       "    </tr>\n",
       "    <tr>\n",
       "      <th>2</th>\n",
       "      <td>2</td>\n",
       "      <td>film</td>\n",
       "      <td>With ever dropping number moviegoers three m...</td>\n",
       "    </tr>\n",
       "    <tr>\n",
       "      <th>3</th>\n",
       "      <td>3</td>\n",
       "      <td>film</td>\n",
       "      <td>number weekend moviegoers continued downside...</td>\n",
       "    </tr>\n",
       "    <tr>\n",
       "      <th>4</th>\n",
       "      <td>4</td>\n",
       "      <td>film</td>\n",
       "      <td>people continue isolate themselves inside ho...</td>\n",
       "    </tr>\n",
       "  </tbody>\n",
       "</table>\n",
       "</div>"
      ],
      "text/plain": [
       "   Unnamed: 0 class                                            article\n",
       "0           0  film    After over monthlong delay movie Time Hunt w...\n",
       "1           1  film    years after Sewol ferry sank dark bottom Apr...\n",
       "2           2  film    With ever dropping number moviegoers three m...\n",
       "3           3  film    number weekend moviegoers continued downside...\n",
       "4           4  film    people continue isolate themselves inside ho..."
      ]
     },
     "execution_count": 5,
     "metadata": {
      "tags": []
     },
     "output_type": "execute_result"
    }
   ],
   "source": [
    "data.head()"
   ]
  },
  {
   "cell_type": "code",
   "execution_count": 0,
   "metadata": {
    "colab": {},
    "colab_type": "code",
    "id": "SWPcZdKmWlCQ"
   },
   "outputs": [],
   "source": [
    "#1번\n",
    "\n",
    "#1-1번\n",
    "vec = []\n",
    "for doc in data['article']:\n",
    "  vec.append(doc) "
   ]
  },
  {
   "cell_type": "code",
   "execution_count": 0,
   "metadata": {
    "colab": {
     "base_uri": "https://localhost:8080/",
     "height": 55
    },
    "colab_type": "code",
    "executionInfo": {
     "elapsed": 1123,
     "status": "ok",
     "timestamp": 1590027481199,
     "user": {
      "displayName": "박서영",
      "photoUrl": "",
      "userId": "01596111337072598556"
     },
     "user_tz": -540
    },
    "id": "2JsCKklUoJRs",
    "outputId": "6be22a45-697c-455d-a184-c6f2512ae25f"
   },
   "outputs": [
    {
     "data": {
      "text/plain": [
       "'  After over monthlong delay movie Time Hunt will available Netflix with streaming platform announcing that release date will soon made available Netflix postponed premiere Time Hunt scheduled April after court ruling prohibited release movie outside Korea following dispute between local overseas film distributors Kwon Little Pictures film local distributor released official statement Thursday apologizing foreign sales distributor company Contents Panda thought showing Time Hunt Netflix countries around world chance promote Korean movie makers producers actors world However ignored efforts Contents Panda contributed greatly foreign sales Time Hunt past year result prohibited from screening film overseas respect court decision apologize Contents Panda said Kwon statement Kwon followed apology with announcement that companies settled agreement with minimal costs thanked Contents Panda their understanding Contents Panda also released official statement after agreement After worked utmost renegotiate with foreign buyers movie lifted prohibition foreign screening movie reached agreement with Little Pictures release Time Hunt Netflix said Contents Panda Contents Panda which already sold movie around countries when Little Pictures unilaterally terminated contract between companies sought court injunction against overseas screening movie Although Little Pictures denied accusation court ruled favor Contents Panda apologize again confusion miscommunication hope that movie Time Hunt seen precious Korean movie said Kwon Little Pictures closing statement Jang href mailto heraldcorp heraldcorp'"
      ]
     },
     "execution_count": 6,
     "metadata": {
      "tags": []
     },
     "output_type": "execute_result"
    }
   ],
   "source": [
    "vec[0]"
   ]
  },
  {
   "cell_type": "code",
   "execution_count": 0,
   "metadata": {
    "colab": {
     "base_uri": "https://localhost:8080/",
     "height": 125
    },
    "colab_type": "code",
    "executionInfo": {
     "elapsed": 2062,
     "status": "ok",
     "timestamp": 1590027485808,
     "user": {
      "displayName": "박서영",
      "photoUrl": "",
      "userId": "01596111337072598556"
     },
     "user_tz": -540
    },
    "id": "AP5tbpRgnIOS",
    "outputId": "fa20c7ca-1d1c-4f81-d209-9401edbcf174"
   },
   "outputs": [
    {
     "name": "stdout",
     "output_type": "stream",
     "text": [
      "CountVectorizer(analyzer='word', binary=True, decode_error='strict',\n",
      "                dtype=<class 'numpy.int64'>, encoding='utf-8', input='content',\n",
      "                lowercase=True, max_df=1.0, max_features=None, min_df=1,\n",
      "                ngram_range=(1, 1), preprocessor=None, stop_words=None,\n",
      "                strip_accents=None, token_pattern='(?u)\\\\b\\\\w\\\\w+\\\\b',\n",
      "                tokenizer=None, vocabulary=None)\n"
     ]
    }
   ],
   "source": [
    "from sklearn.feature_extraction.text import CountVectorizer \n",
    "\n",
    "counter = CountVectorizer(binary=True)\n",
    "print(counter.fit(vec))"
   ]
  },
  {
   "cell_type": "code",
   "execution_count": 0,
   "metadata": {
    "colab": {
     "base_uri": "https://localhost:8080/",
     "height": 35
    },
    "colab_type": "code",
    "executionInfo": {
     "elapsed": 1992,
     "status": "ok",
     "timestamp": 1590027492263,
     "user": {
      "displayName": "박서영",
      "photoUrl": "",
      "userId": "01596111337072598556"
     },
     "user_tz": -540
    },
    "id": "CExIQuLjo5cz",
    "outputId": "bf90f3fa-1095-4911-e839-b8fdf7b7cf14"
   },
   "outputs": [
    {
     "data": {
      "text/plain": [
       "array([0, 0, 0, ..., 0, 0, 0])"
      ]
     },
     "execution_count": 8,
     "metadata": {
      "tags": []
     },
     "output_type": "execute_result"
    }
   ],
   "source": [
    "countdata = counter.transform(vec).toarray()\n",
    "countdata[0]"
   ]
  },
  {
   "cell_type": "code",
   "execution_count": 0,
   "metadata": {
    "colab": {
     "base_uri": "https://localhost:8080/",
     "height": 143
    },
    "colab_type": "code",
    "executionInfo": {
     "elapsed": 1525,
     "status": "ok",
     "timestamp": 1590027497077,
     "user": {
      "displayName": "박서영",
      "photoUrl": "",
      "userId": "01596111337072598556"
     },
     "user_tz": -540
    },
    "id": "WOZpu0xoe6Wk",
    "outputId": "cd8f485b-fbb4-4661-a6dd-83e07c997a1b"
   },
   "outputs": [
    {
     "name": "stdout",
     "output_type": "stream",
     "text": [
      "TfidfVectorizer(analyzer='word', binary=True, decode_error='strict',\n",
      "                dtype=<class 'numpy.float64'>, encoding='utf-8',\n",
      "                input='content', lowercase=True, max_df=1.0, max_features=None,\n",
      "                min_df=1, ngram_range=(1, 1), norm='l2', preprocessor=None,\n",
      "                smooth_idf=True, stop_words=None, strip_accents=None,\n",
      "                sublinear_tf=False, token_pattern='(?u)\\\\b\\\\w\\\\w+\\\\b',\n",
      "                tokenizer=None, use_idf=True, vocabulary=None)\n"
     ]
    }
   ],
   "source": [
    "#1-2번\n",
    "from sklearn.feature_extraction.text import TfidfVectorizer \n",
    "\n",
    "tfidf = TfidfVectorizer(binary=True)\n",
    "print(tfidf.fit(vec))"
   ]
  },
  {
   "cell_type": "code",
   "execution_count": 0,
   "metadata": {
    "colab": {
     "base_uri": "https://localhost:8080/",
     "height": 143
    },
    "colab_type": "code",
    "executionInfo": {
     "elapsed": 2185,
     "status": "ok",
     "timestamp": 1590027502391,
     "user": {
      "displayName": "박서영",
      "photoUrl": "",
      "userId": "01596111337072598556"
     },
     "user_tz": -540
    },
    "id": "ffY31hfepd17",
    "outputId": "57286ef0-3212-42ed-9c39-472969f2cdef"
   },
   "outputs": [
    {
     "data": {
      "text/plain": [
       "array([[0., 0., 0., ..., 0., 0., 0.],\n",
       "       [0., 0., 0., ..., 0., 0., 0.],\n",
       "       [0., 0., 0., ..., 0., 0., 0.],\n",
       "       ...,\n",
       "       [0., 0., 0., ..., 0., 0., 0.],\n",
       "       [0., 0., 0., ..., 0., 0., 0.],\n",
       "       [0., 0., 0., ..., 0., 0., 0.]])"
      ]
     },
     "execution_count": 10,
     "metadata": {
      "tags": []
     },
     "output_type": "execute_result"
    }
   ],
   "source": [
    "tfidata = tfidf.transform(vec).toarray()\n",
    "tfidata"
   ]
  },
  {
   "cell_type": "code",
   "execution_count": 0,
   "metadata": {
    "colab": {},
    "colab_type": "code",
    "id": "0Pv55DEcvTdQ"
   },
   "outputs": [],
   "source": [
    "from sklearn.preprocessing import LabelEncoder\n",
    "from tensorflow.keras.utils import to_categorical"
   ]
  },
  {
   "cell_type": "code",
   "execution_count": 0,
   "metadata": {
    "colab": {
     "base_uri": "https://localhost:8080/",
     "height": 71
    },
    "colab_type": "code",
    "executionInfo": {
     "elapsed": 1007,
     "status": "ok",
     "timestamp": 1590027512938,
     "user": {
      "displayName": "박서영",
      "photoUrl": "",
      "userId": "01596111337072598556"
     },
     "user_tz": -540
    },
    "id": "jV_2rvZex4NG",
    "outputId": "4c7da435-b3b5-4d0f-b451-5fc4c9fd31bf"
   },
   "outputs": [
    {
     "name": "stdout",
     "output_type": "stream",
     "text": [
      "인코딩 변환값: [1 1 1 ... 3 3 3]\n"
     ]
    },
    {
     "name": "stderr",
     "output_type": "stream",
     "text": [
      "/usr/local/lib/python3.6/dist-packages/statsmodels/tools/_testing.py:19: FutureWarning: pandas.util.testing is deprecated. Use the functions in the public API at pandas.testing instead.\n",
      "  import pandas.util.testing as tm\n"
     ]
    }
   ],
   "source": [
    "import seaborn as sns, numpy as np\n",
    "classdata = np.array(data['class'])\n",
    "encoder = LabelEncoder()\n",
    "encoder.fit(classdata)\n",
    "labels = encoder.transform(classdata)\n",
    "#labels = to_categorical(labels,num_classes=None)\n",
    "print('인코딩 변환값:',labels)\n",
    "\n",
    "#label categorical로바꿔라"
   ]
  },
  {
   "cell_type": "code",
   "execution_count": 0,
   "metadata": {
    "colab": {
     "base_uri": "https://localhost:8080/",
     "height": 35
    },
    "colab_type": "code",
    "executionInfo": {
     "elapsed": 936,
     "status": "ok",
     "timestamp": 1590027517566,
     "user": {
      "displayName": "박서영",
      "photoUrl": "",
      "userId": "01596111337072598556"
     },
     "user_tz": -540
    },
    "id": "w1L0t-2qvbD9",
    "outputId": "f228e1e6-d7b0-4f3d-9c03-2217024e04e8"
   },
   "outputs": [
    {
     "data": {
      "text/plain": [
       "array([1, 1, 1, ..., 3, 3, 3])"
      ]
     },
     "execution_count": 13,
     "metadata": {
      "tags": []
     },
     "output_type": "execute_result"
    }
   ],
   "source": [
    "labels\n"
   ]
  },
  {
   "cell_type": "code",
   "execution_count": 0,
   "metadata": {
    "colab": {},
    "colab_type": "code",
    "id": "OvLwr3Xul_MU"
   },
   "outputs": [],
   "source": [
    "#1-3번\n",
    "from sklearn.model_selection import train_test_split\n",
    "\n",
    "cx_train, cx_test,y_train,y_test = train_test_split(countdata,labels ,test_size=0.2, shuffle=True,  random_state=1004)\n",
    "tx_train, tx_test,y_train,y_test = train_test_split(tfidata,labels, test_size=0.2, shuffle=True,  random_state=1004)\n",
    "\n"
   ]
  },
  {
   "cell_type": "code",
   "execution_count": 0,
   "metadata": {
    "colab": {
     "base_uri": "https://localhost:8080/",
     "height": 35
    },
    "colab_type": "code",
    "executionInfo": {
     "elapsed": 981,
     "status": "ok",
     "timestamp": 1590027523387,
     "user": {
      "displayName": "박서영",
      "photoUrl": "",
      "userId": "01596111337072598556"
     },
     "user_tz": -540
    },
    "id": "8DU_BU_l0COU",
    "outputId": "0d58bd10-80bb-4645-bce7-021c460252ae"
   },
   "outputs": [
    {
     "data": {
      "text/plain": [
       "array([0, 0, 1, ..., 0, 3, 2])"
      ]
     },
     "execution_count": 15,
     "metadata": {
      "tags": []
     },
     "output_type": "execute_result"
    }
   ],
   "source": [
    "y_train"
   ]
  },
  {
   "cell_type": "code",
   "execution_count": 0,
   "metadata": {
    "colab": {
     "base_uri": "https://localhost:8080/",
     "height": 35
    },
    "colab_type": "code",
    "executionInfo": {
     "elapsed": 1159,
     "status": "ok",
     "timestamp": 1589987152160,
     "user": {
      "displayName": "박서영",
      "photoUrl": "",
      "userId": "01596111337072598556"
     },
     "user_tz": -540
    },
    "id": "criK011B1vL3",
    "outputId": "43eff455-02a9-4ad5-f6da-42e3e61d6eb9"
   },
   "outputs": [
    {
     "data": {
      "text/plain": [
       "3742"
      ]
     },
     "execution_count": 17,
     "metadata": {
      "tags": []
     },
     "output_type": "execute_result"
    }
   ],
   "source": [
    "len(y_train)"
   ]
  },
  {
   "cell_type": "code",
   "execution_count": 0,
   "metadata": {
    "colab": {
     "base_uri": "https://localhost:8080/",
     "height": 265
    },
    "colab_type": "code",
    "executionInfo": {
     "elapsed": 928,
     "status": "ok",
     "timestamp": 1590027525739,
     "user": {
      "displayName": "박서영",
      "photoUrl": "",
      "userId": "01596111337072598556"
     },
     "user_tz": -540
    },
    "id": "C4bztTzwtT2z",
    "outputId": "5364922d-1fde-4976-c710-e26ee8ac4e26"
   },
   "outputs": [
    {
     "data": {
      "image/png": "[encoded data removed]",
      "text/plain": [
       "<Figure size 432x288 with 1 Axes>"
      ]
     },
     "metadata": {
      "needs_background": "light",
      "tags": []
     },
     "output_type": "display_data"
    }
   ],
   "source": [
    "#2-1번_수정하기비율로 _accuracy\n",
    "import matplotlib.pyplot as plt\n",
    "import seaborn as sns, numpy as np\n",
    "n, bins, patches = plt.hist(data['class'], bins=10,color = '#ffa299')\n",
    "plt.show()"
   ]
  },
  {
   "cell_type": "code",
   "execution_count": 0,
   "metadata": {
    "colab": {},
    "colab_type": "code",
    "id": "xk7OaIiyz9np"
   },
   "outputs": [],
   "source": [
    "from sklearn.naive_bayes import MultinomialNB\n",
    "from sklearn import metrics\n",
    "from sklearn.datasets import fetch_20newsgroups\n",
    "from pprint import pprint\n",
    "# 최적 alpha를 찾기 위한 grid search\n",
    "alphas = np.arange(0.01, 1,0.02)\n",
    "#count\n",
    "x_train, x_valid,Y_train,Y_valid = train_test_split(cx_train,y_train ,test_size=0.25, shuffle=True,  random_state=1004)\n",
    "\n"
   ]
  },
  {
   "cell_type": "code",
   "execution_count": 0,
   "metadata": {
    "colab": {},
    "colab_type": "code",
    "id": "5G-RT30u51hn"
   },
   "outputs": [],
   "source": [
    "#tfi\n",
    "X_train, X_valid,Y2_train,Y2_valid = train_test_split(tx_train,y_train ,test_size=0.25, shuffle=True,  random_state=1004)\n"
   ]
  },
  {
   "cell_type": "markdown",
   "metadata": {
    "colab_type": "text",
    "id": "FGR1q4WELu93"
   },
   "source": [
    "3-1"
   ]
  },
  {
   "cell_type": "code",
   "execution_count": 0,
   "metadata": {
    "colab": {},
    "colab_type": "code",
    "id": "X0RJjIiUwCWS"
   },
   "outputs": [],
   "source": [
    "count_set = []\n",
    "\n",
    "for alpha in alphas:\n",
    "  count_grid = MultinomialNB(alpha=alpha)\n",
    "  count_grid.fit(x_train, Y_train)\n",
    "  pred_count_grid = count_grid.predict(x_valid)\n",
    "  f1_count = metrics.f1_score(Y_valid, pred_count_grid, average='macro')\n",
    "\n",
    "  count_set.append(f1_count)"
   ]
  },
  {
   "cell_type": "code",
   "execution_count": 0,
   "metadata": {
    "colab": {
     "base_uri": "https://localhost:8080/",
     "height": 35
    },
    "colab_type": "code",
    "executionInfo": {
     "elapsed": 1046,
     "status": "ok",
     "timestamp": 1590027656608,
     "user": {
      "displayName": "박서영",
      "photoUrl": "",
      "userId": "01596111337072598556"
     },
     "user_tz": -540
    },
    "id": "N1T345VV0tMW",
    "outputId": "e4b739c2-9a36-4d2c-8ce0-a0b35ea855a3"
   },
   "outputs": [
    {
     "data": {
      "text/plain": [
       "0.06999999999999999"
      ]
     },
     "execution_count": 20,
     "metadata": {
      "tags": []
     },
     "output_type": "execute_result"
    }
   ],
   "source": [
    "best_alpha = alphas[np.argmax(count_set)]\n",
    "best_alpha "
   ]
  },
  {
   "cell_type": "code",
   "execution_count": 0,
   "metadata": {
    "colab": {
     "base_uri": "https://localhost:8080/",
     "height": 265
    },
    "colab_type": "code",
    "executionInfo": {
     "elapsed": 1118,
     "status": "ok",
     "timestamp": 1590027659190,
     "user": {
      "displayName": "박서영",
      "photoUrl": "",
      "userId": "01596111337072598556"
     },
     "user_tz": -540
    },
    "id": "7HVu43_g1Zss",
    "outputId": "228dce41-905e-4411-d962-59b00322b2c9"
   },
   "outputs": [
    {
     "data": {
      "image/png": "[encoded data removed]",
      "text/plain": [
       "<Figure size 432x288 with 1 Axes>"
      ]
     },
     "metadata": {
      "needs_background": "light",
      "tags": []
     },
     "output_type": "display_data"
    }
   ],
   "source": [
    "graph= plt.plot(alphas,count_set)"
   ]
  },
  {
   "cell_type": "code",
   "execution_count": 0,
   "metadata": {
    "colab": {},
    "colab_type": "code",
    "id": "Mjh4A3206zPK"
   },
   "outputs": [],
   "source": [
    "#tfi \n",
    "X_train, X_valid,Y2_train,Y2_valid = train_test_split(tx_train,y_train ,test_size=0.25, shuffle=True,  random_state=1004)\n",
    "\n",
    "\n",
    "alphas = np.arange(0.01, 1,0.02)\n",
    "tfi_set = []\n",
    "\n",
    "for alpha in alphas:\n",
    "  tfi_grid = MultinomialNB(alpha=alpha)\n",
    "  tfi_grid.fit(X_train, Y2_train)\n",
    "  pred_tfi_grid = tfi_grid.predict(X_valid)\n",
    "  f1_tfi = metrics.f1_score(Y2_valid, pred_tfi_grid, average='macro')\n",
    "\n",
    "  tfi_set.append(f1_tfi)"
   ]
  },
  {
   "cell_type": "code",
   "execution_count": 0,
   "metadata": {
    "colab": {
     "base_uri": "https://localhost:8080/",
     "height": 35
    },
    "colab_type": "code",
    "executionInfo": {
     "elapsed": 998,
     "status": "ok",
     "timestamp": 1590027755221,
     "user": {
      "displayName": "박서영",
      "photoUrl": "",
      "userId": "01596111337072598556"
     },
     "user_tz": -540
    },
    "id": "4J_Reb4A-_AC",
    "outputId": "ba63cf65-a680-4353-ef34-6766c6455986"
   },
   "outputs": [
    {
     "data": {
      "text/plain": [
       "0.01"
      ]
     },
     "execution_count": 23,
     "metadata": {
      "tags": []
     },
     "output_type": "execute_result"
    }
   ],
   "source": [
    "best_alpha = alphas[np.argmax(tfi_set)]\n",
    "best_alpha "
   ]
  },
  {
   "cell_type": "code",
   "execution_count": 0,
   "metadata": {
    "colab": {
     "base_uri": "https://localhost:8080/",
     "height": 265
    },
    "colab_type": "code",
    "executionInfo": {
     "elapsed": 1031,
     "status": "ok",
     "timestamp": 1590027757992,
     "user": {
      "displayName": "박서영",
      "photoUrl": "",
      "userId": "01596111337072598556"
     },
     "user_tz": -540
    },
    "id": "V-zXm5i40-tr",
    "outputId": "24ea29f4-45c4-44bd-efcd-2798b8d0c0a6"
   },
   "outputs": [
    {
     "data": {
      "image/png": "[encoded data removed]",
      "text/plain": [
       "<Figure size 432x288 with 1 Axes>"
      ]
     },
     "metadata": {
      "needs_background": "light",
      "tags": []
     },
     "output_type": "display_data"
    }
   ],
   "source": [
    "graph= plt.plot(alphas,tfi_set)"
   ]
  },
  {
   "cell_type": "markdown",
   "metadata": {
    "colab_type": "text",
    "id": "xI5TZ0dqLspj"
   },
   "source": [
    "3-2"
   ]
  },
  {
   "cell_type": "code",
   "execution_count": 0,
   "metadata": {
    "colab": {},
    "colab_type": "code",
    "id": "1QDAAjv76cZu"
   },
   "outputs": [],
   "source": [
    "from sklearn.svm import SVC \n",
    "# 최적 kernel를 찾기 위한 grid search\n",
    "kernels = ['linear', 'poly', 'rbf', 'sigmoid']\n",
    "\n",
    "#count\n",
    "#cx_train, cx_test,y_train,y_test = train_test_split(countdata,labels ,test_size=0.2, shuffle=True,  random_state=1004)\n",
    "#x_train, x_valid,Y_train,Y_valid = train_test_split(cx_train,y_train ,test_size=0.25, shuffle=True,  random_state=1004)\n",
    "\n",
    "\n",
    "f1_svm_set = []\n",
    "for kernel in kernels:\n",
    "  svm_grid = SVC(kernel=kernel)\n",
    "  svm_grid.fit(x_train, Y_train)\n",
    "  pred_svm_grid = svm_grid.predict(x_valid)\n",
    "  f1_svm = metrics.f1_score(Y_valid, pred_svm_grid, average='macro')\n",
    "\n",
    "  f1_svm_set.append(f1_svm)\n"
   ]
  },
  {
   "cell_type": "code",
   "execution_count": 0,
   "metadata": {
    "colab": {
     "base_uri": "https://localhost:8080/",
     "height": 35
    },
    "colab_type": "code",
    "executionInfo": {
     "elapsed": 1219,
     "status": "ok",
     "timestamp": 1589988341536,
     "user": {
      "displayName": "박서영",
      "photoUrl": "",
      "userId": "01596111337072598556"
     },
     "user_tz": -540
    },
    "id": "Np4jxkrj8moa",
    "outputId": "cd5d8eaa-5196-491f-819f-46c9023f45d3"
   },
   "outputs": [
    {
     "data": {
      "text/plain": [
       "'sigmoid'"
      ]
     },
     "execution_count": 34,
     "metadata": {
      "tags": []
     },
     "output_type": "execute_result"
    }
   ],
   "source": [
    "best_kernel = kernels[np.argmax(f1_svm_set)]\n",
    "best_kernel"
   ]
  },
  {
   "cell_type": "code",
   "execution_count": 0,
   "metadata": {
    "colab": {
     "base_uri": "https://localhost:8080/",
     "height": 89
    },
    "colab_type": "code",
    "executionInfo": {
     "elapsed": 117746,
     "status": "ok",
     "timestamp": 1589988460839,
     "user": {
      "displayName": "박서영",
      "photoUrl": "",
      "userId": "01596111337072598556"
     },
     "user_tz": -540
    },
    "id": "Ehy4nHKP89iR",
    "outputId": "7a6359e7-1aaa-4afd-e5b4-bee5fe696cfd"
   },
   "outputs": [
    {
     "data": {
      "text/plain": [
       "SVC(C=1.0, break_ties=False, cache_size=200, class_weight=None, coef0=0.0,\n",
       "    decision_function_shape='ovr', degree=3, gamma='scale', kernel='sigmoid',\n",
       "    max_iter=-1, probability=False, random_state=None, shrinking=True,\n",
       "    tol=0.001, verbose=False)"
      ]
     },
     "execution_count": 35,
     "metadata": {
      "tags": []
     },
     "output_type": "execute_result"
    }
   ],
   "source": [
    "clf_svm = SVC(kernel=kernel)\n",
    "clf_svm.fit(x_train, Y_train)"
   ]
  },
  {
   "cell_type": "code",
   "execution_count": 0,
   "metadata": {
    "colab": {
     "base_uri": "https://localhost:8080/",
     "height": 35
    },
    "colab_type": "code",
    "executionInfo": {
     "elapsed": 38802,
     "status": "ok",
     "timestamp": 1589990637097,
     "user": {
      "displayName": "박서영",
      "photoUrl": "",
      "userId": "01596111337072598556"
     },
     "user_tz": -540
    },
    "id": "hNHvRdvVHblw",
    "outputId": "5bd14c30-0371-4bbd-9f1c-caaa3f081f7f"
   },
   "outputs": [
    {
     "data": {
      "text/plain": [
       "0.9228406318244012"
      ]
     },
     "execution_count": 44,
     "metadata": {
      "tags": []
     },
     "output_type": "execute_result"
    }
   ],
   "source": [
    "pred_svm = clf_svm.predict(cx_test)\n",
    "\n",
    "a = metrics.f1_score(y_test, pred_svm, average='macro')\n",
    "a"
   ]
  },
  {
   "cell_type": "code",
   "execution_count": 0,
   "metadata": {
    "colab": {},
    "colab_type": "code",
    "id": "Bl57FiqVH5qr"
   },
   "outputs": [],
   "source": [
    "#tfi\n",
    "#tx_train, tx_test,y_train,y_test = train_test_split(tfidata,labels, test_size=0.2, shuffle=True,  random_state=1004)\n",
    "#X_train, X_valid,Y2_train,Y2_valid = train_test_split(tx_train,y_train ,test_size=0.25, shuffle=True,  random_state=1004)\n",
    "from sklearn.svm import SVC \n",
    "# 최적 kernel를 찾기 위한 grid search\n",
    "kernels = ['linear', 'poly', 'rbf', 'sigmoid']\n",
    "\n",
    "f1_svm_set = []\n",
    "for kernel in kernels:\n",
    "  svm_grid = SVC(kernel=kernel)\n",
    "  svm_grid.fit(X_train, Y2_train)\n",
    "  pred_svm_grid = svm_grid.predict(X_valid)\n",
    "  f1_svm = metrics.f1_score(Y2_valid, pred_svm_grid, average='macro')\n",
    "\n",
    "  f1_svm_set.append(f1_svm)\n"
   ]
  },
  {
   "cell_type": "code",
   "execution_count": 0,
   "metadata": {
    "colab": {
     "base_uri": "https://localhost:8080/",
     "height": 35
    },
    "colab_type": "code",
    "executionInfo": {
     "elapsed": 1049,
     "status": "ok",
     "timestamp": 1590029561934,
     "user": {
      "displayName": "박서영",
      "photoUrl": "",
      "userId": "01596111337072598556"
     },
     "user_tz": -540
    },
    "id": "LRIeOqQwIXG8",
    "outputId": "f99c6aa7-4b10-4781-fa24-2ff2246227a7"
   },
   "outputs": [
    {
     "data": {
      "text/plain": [
       "'linear'"
      ]
     },
     "execution_count": 27,
     "metadata": {
      "tags": []
     },
     "output_type": "execute_result"
    }
   ],
   "source": [
    "best_kernel = kernels[np.argmax(f1_svm_set)]\n",
    "best_kernel"
   ]
  },
  {
   "cell_type": "code",
   "execution_count": 0,
   "metadata": {
    "colab": {
     "base_uri": "https://localhost:8080/",
     "height": 35
    },
    "colab_type": "code",
    "executionInfo": {
     "elapsed": 1005,
     "status": "ok",
     "timestamp": 1590031880908,
     "user": {
      "displayName": "박서영",
      "photoUrl": "",
      "userId": "01596111337072598556"
     },
     "user_tz": -540
    },
    "id": "RGIDt0c3RxYU",
    "outputId": "2d5d4cb4-5ae5-4094-ac1e-649f4a157c48"
   },
   "outputs": [
    {
     "data": {
      "text/plain": [
       "0.9524187314834323"
      ]
     },
     "execution_count": 43,
     "metadata": {
      "tags": []
     },
     "output_type": "execute_result"
    }
   ],
   "source": [
    "f1_svm_set[0]"
   ]
  },
  {
   "cell_type": "code",
   "execution_count": 0,
   "metadata": {
    "colab": {
     "base_uri": "https://localhost:8080/",
     "height": 89
    },
    "colab_type": "code",
    "executionInfo": {
     "elapsed": 170834,
     "status": "ok",
     "timestamp": 1590029734527,
     "user": {
      "displayName": "박서영",
      "photoUrl": "",
      "userId": "01596111337072598556"
     },
     "user_tz": -540
    },
    "id": "1pESNC8IIa_f",
    "outputId": "3689bdf6-3209-4e0a-bd26-8a5c809bb063"
   },
   "outputs": [
    {
     "data": {
      "text/plain": [
       "SVC(C=1.0, break_ties=False, cache_size=200, class_weight=None, coef0=0.0,\n",
       "    decision_function_shape='ovr', degree=3, gamma='scale', kernel='sigmoid',\n",
       "    max_iter=-1, probability=False, random_state=None, shrinking=True,\n",
       "    tol=0.001, verbose=False)"
      ]
     },
     "execution_count": 28,
     "metadata": {
      "tags": []
     },
     "output_type": "execute_result"
    }
   ],
   "source": [
    "clf_svm = SVC(kernel=kernel)\n",
    "clf_svm.fit(X_train, Y2_train)"
   ]
  },
  {
   "cell_type": "code",
   "execution_count": 0,
   "metadata": {
    "colab": {
     "base_uri": "https://localhost:8080/",
     "height": 35
    },
    "colab_type": "code",
    "executionInfo": {
     "elapsed": 52772,
     "status": "ok",
     "timestamp": 1590029790855,
     "user": {
      "displayName": "박서영",
      "photoUrl": "",
      "userId": "01596111337072598556"
     },
     "user_tz": -540
    },
    "id": "XgE9pxoXIca3",
    "outputId": "86d96c2f-77d1-49d5-9b2c-e173e4c71176"
   },
   "outputs": [
    {
     "data": {
      "text/plain": [
       "0.9336070898360641"
      ]
     },
     "execution_count": 29,
     "metadata": {
      "tags": []
     },
     "output_type": "execute_result"
    }
   ],
   "source": [
    "pred_svm = clf_svm.predict(tx_test)\n",
    "a = metrics.f1_score(y_test, pred_svm, average='macro')\n",
    "a\n"
   ]
  },
  {
   "cell_type": "markdown",
   "metadata": {
    "colab_type": "text",
    "id": "nbbgNX2YLijH"
   },
   "source": [
    "3-3"
   ]
  },
  {
   "cell_type": "code",
   "execution_count": 0,
   "metadata": {
    "colab": {},
    "colab_type": "code",
    "id": "VpEBM8y3Ing4"
   },
   "outputs": [],
   "source": [
    "from sklearn.neighbors import KNeighborsClassifier\n",
    "#count\n",
    "# 최적 alpha를 찾기 위한 grid search\n",
    "\n",
    "#cx_train, cx_test,y_train,y_test = train_test_split(countdata,labels ,test_size=0.2, shuffle=True,  random_state=1004)\n",
    "#x_train, x_valid,Y_train,Y_valid = train_test_split(cx_train,y_train ,test_size=0.25, shuffle=True,  random_state=1004)\n",
    "\n",
    "k_s = range(1, 5)\n",
    "\n",
    "f1_knn_set = []\n",
    "for k in k_s:\n",
    "  knn_grid = KNeighborsClassifier(n_neighbors=k) #parameter\n",
    "  knn_grid.fit(x_train,Y_train)\n",
    "  pred_knn_grid = knn_grid.predict(x_valid)\n",
    "  f1_knn = metrics.f1_score(Y_valid, pred_knn_grid, average='macro')\n",
    "\n",
    "  f1_knn_set.append(f1_knn)"
   ]
  },
  {
   "cell_type": "code",
   "execution_count": 0,
   "metadata": {
    "colab": {
     "base_uri": "https://localhost:8080/",
     "height": 35
    },
    "colab_type": "code",
    "executionInfo": {
     "elapsed": 1151,
     "status": "ok",
     "timestamp": 1590031504729,
     "user": {
      "displayName": "박서영",
      "photoUrl": "",
      "userId": "01596111337072598556"
     },
     "user_tz": -540
    },
    "id": "TIpb0epMJaXk",
    "outputId": "fc609f7f-ad37-497d-f185-8adb2324b022"
   },
   "outputs": [
    {
     "data": {
      "text/plain": [
       "1"
      ]
     },
     "execution_count": 37,
     "metadata": {
      "tags": []
     },
     "output_type": "execute_result"
    }
   ],
   "source": [
    "best_k = k_s[np.argmax(f1_knn_set)]\n",
    "best_k "
   ]
  },
  {
   "cell_type": "code",
   "execution_count": 0,
   "metadata": {
    "colab": {
     "base_uri": "https://localhost:8080/",
     "height": 265
    },
    "colab_type": "code",
    "executionInfo": {
     "elapsed": 1158,
     "status": "ok",
     "timestamp": 1590031507392,
     "user": {
      "displayName": "박서영",
      "photoUrl": "",
      "userId": "01596111337072598556"
     },
     "user_tz": -540
    },
    "id": "TrGVpdrW50Oe",
    "outputId": "a52608cb-fc74-4ca9-feb9-964ab715f0b6"
   },
   "outputs": [
    {
     "data": {
      "image/png": "[encoded data removed]",
      "text/plain": [
       "<Figure size 432x288 with 1 Axes>"
      ]
     },
     "metadata": {
      "needs_background": "light",
      "tags": []
     },
     "output_type": "display_data"
    }
   ],
   "source": [
    "graph= plt.plot(k_s,f1_knn_set) \n",
    "#이를 통해 k=3일 떄 가장 높은 정확도를 보임을 알 수 있다. (1일 떄 높은 이유 : 과대 적합)"
   ]
  },
  {
   "cell_type": "code",
   "execution_count": 0,
   "metadata": {
    "colab": {
     "base_uri": "https://localhost:8080/",
     "height": 71
    },
    "colab_type": "code",
    "executionInfo": {
     "elapsed": 11018,
     "status": "ok",
     "timestamp": 1590031521016,
     "user": {
      "displayName": "박서영",
      "photoUrl": "",
      "userId": "01596111337072598556"
     },
     "user_tz": -540
    },
    "id": "WN7bbkeGJbzC",
    "outputId": "7fc71899-838b-445a-ea49-5469ce8a8478"
   },
   "outputs": [
    {
     "data": {
      "text/plain": [
       "KNeighborsClassifier(algorithm='auto', leaf_size=30, metric='minkowski',\n",
       "                     metric_params=None, n_jobs=None, n_neighbors=3, p=2,\n",
       "                     weights='uniform')"
      ]
     },
     "execution_count": 39,
     "metadata": {
      "tags": []
     },
     "output_type": "execute_result"
    }
   ],
   "source": [
    "knn = KNeighborsClassifier(n_neighbors=3)\n",
    "knn.fit(x_train, Y_train)"
   ]
  },
  {
   "cell_type": "code",
   "execution_count": 0,
   "metadata": {
    "colab": {
     "base_uri": "https://localhost:8080/",
     "height": 35
    },
    "colab_type": "code",
    "executionInfo": {
     "elapsed": 134062,
     "status": "ok",
     "timestamp": 1590031661312,
     "user": {
      "displayName": "박서영",
      "photoUrl": "",
      "userId": "01596111337072598556"
     },
     "user_tz": -540
    },
    "id": "IWNhPUZvJ10y",
    "outputId": "03cb8964-cdf7-4275-9795-4fac629edaf5"
   },
   "outputs": [
    {
     "data": {
      "text/plain": [
       "0.39574464827263656"
      ]
     },
     "execution_count": 40,
     "metadata": {
      "tags": []
     },
     "output_type": "execute_result"
    }
   ],
   "source": [
    "pred_knn = knn.predict(cx_test)\n",
    "a = metrics.f1_score(y_test, pred_knn, average='macro')\n",
    "a"
   ]
  },
  {
   "cell_type": "code",
   "execution_count": 0,
   "metadata": {
    "colab": {},
    "colab_type": "code",
    "id": "aXRQ7wMtJ7P-"
   },
   "outputs": [],
   "source": [
    "#tfi\n",
    "#tx_train, tx_test,y_train,y_test = train_test_split(tfidata,labels, test_size=0.2, shuffle=True,  random_state=1004)\n",
    "#X_train, X_valid,Y2_train,Y2_valid = train_test_split(tx_train,y_train ,test_size=0.25, shuffle=True,  random_state=1004)\n",
    "k_s = range(1, 5)\n",
    "from sklearn.neighbors import KNeighborsClassifier\n",
    "f1_knn_set = []\n",
    "for k in k_s:\n",
    "  knn_grid = KNeighborsClassifier(n_neighbors=k)\n",
    "  knn_grid.fit(X_train,Y2_train)\n",
    "  pred_knn_grid = knn_grid.predict(X_valid)\n",
    "  f1_knn = metrics.f1_score(Y2_valid, pred_knn_grid, average='macro')\n",
    "\n",
    "  f1_knn_set.append(f1_knn)"
   ]
  },
  {
   "cell_type": "code",
   "execution_count": 0,
   "metadata": {
    "colab": {
     "base_uri": "https://localhost:8080/",
     "height": 35
    },
    "colab_type": "code",
    "executionInfo": {
     "elapsed": 1058,
     "status": "ok",
     "timestamp": 1590030611389,
     "user": {
      "displayName": "박서영",
      "photoUrl": "",
      "userId": "01596111337072598556"
     },
     "user_tz": -540
    },
    "id": "6_p1N-GBLMCM",
    "outputId": "5321286c-418b-4755-c0ee-f202b71a4c0b"
   },
   "outputs": [
    {
     "data": {
      "text/plain": [
       "1"
      ]
     },
     "execution_count": 32,
     "metadata": {
      "tags": []
     },
     "output_type": "execute_result"
    }
   ],
   "source": [
    "best_k = k_s[np.argmax(f1_knn_set)]\n",
    "best_k"
   ]
  },
  {
   "cell_type": "code",
   "execution_count": 0,
   "metadata": {
    "colab": {
     "base_uri": "https://localhost:8080/",
     "height": 265
    },
    "colab_type": "code",
    "executionInfo": {
     "elapsed": 1063,
     "status": "ok",
     "timestamp": 1590030613844,
     "user": {
      "displayName": "박서영",
      "photoUrl": "",
      "userId": "01596111337072598556"
     },
     "user_tz": -540
    },
    "id": "4DUQn3r75_9k",
    "outputId": "06c1c928-c862-4073-e406-dee196774948"
   },
   "outputs": [
    {
     "data": {
      "image/png": "[encoded data removed]",
      "text/plain": [
       "<Figure size 432x288 with 1 Axes>"
      ]
     },
     "metadata": {
      "needs_background": "light",
      "tags": []
     },
     "output_type": "display_data"
    }
   ],
   "source": [
    "graph= plt.plot(k_s,f1_knn_set)"
   ]
  },
  {
   "cell_type": "code",
   "execution_count": 0,
   "metadata": {
    "colab": {
     "base_uri": "https://localhost:8080/",
     "height": 71
    },
    "colab_type": "code",
    "executionInfo": {
     "elapsed": 10475,
     "status": "ok",
     "timestamp": 1590030644923,
     "user": {
      "displayName": "박서영",
      "photoUrl": "",
      "userId": "01596111337072598556"
     },
     "user_tz": -540
    },
    "id": "K8LCwJhILNsG",
    "outputId": "6ca7bd66-3cb6-4a41-b35b-f87f65ad97ec"
   },
   "outputs": [
    {
     "data": {
      "text/plain": [
       "KNeighborsClassifier(algorithm='auto', leaf_size=30, metric='minkowski',\n",
       "                     metric_params=None, n_jobs=None, n_neighbors=3, p=2,\n",
       "                     weights='uniform')"
      ]
     },
     "execution_count": 34,
     "metadata": {
      "tags": []
     },
     "output_type": "execute_result"
    }
   ],
   "source": [
    "knn = KNeighborsClassifier(n_neighbors=3)\n",
    "knn.fit(X_train, Y2_train)"
   ]
  },
  {
   "cell_type": "code",
   "execution_count": 0,
   "metadata": {
    "colab": {
     "base_uri": "https://localhost:8080/",
     "height": 35
    },
    "colab_type": "code",
    "executionInfo": {
     "elapsed": 134645,
     "status": "ok",
     "timestamp": 1590030784546,
     "user": {
      "displayName": "박서영",
      "photoUrl": "",
      "userId": "01596111337072598556"
     },
     "user_tz": -540
    },
    "id": "gMO2e3YvLTet",
    "outputId": "e12c31af-2e11-4339-fecf-91321076a97c"
   },
   "outputs": [
    {
     "data": {
      "text/plain": [
       "0.17325536461023658"
      ]
     },
     "execution_count": 35,
     "metadata": {
      "tags": []
     },
     "output_type": "execute_result"
    }
   ],
   "source": [
    "pred_knn = knn.predict(tx_test)\n",
    "a= metrics.f1_score(y_test, pred_knn, average='macro')\n",
    "a"
   ]
  },
  {
   "cell_type": "markdown",
   "metadata": {
    "colab_type": "text",
    "id": "1Ppu-fT9L1YR"
   },
   "source": [
    "3-4"
   ]
  },
  {
   "cell_type": "code",
   "execution_count": 0,
   "metadata": {
    "colab": {},
    "colab_type": "code",
    "id": "vN7IljhVL2oj"
   },
   "outputs": [],
   "source": [
    "svm과 나이브베이즈분류모델이 비슷하게 f1 score 값이 1에 비슷하기에 두개가 비슷하다고 볼 수 있다. "
   ]
  }
 ],
 "metadata": {
  "accelerator": "GPU",
  "colab": {
   "authorship_tag": "ABX9TyNlJDW7z+QVEOjR9kBYdJs0",
   "collapsed_sections": [],
   "name": "package3_syp.ipynb",
   "provenance": []
  },
  "kernelspec": {
   "display_name": "Python 3",
   "language": "python",
   "name": "python3"
  },
  "language_info": {
   "codemirror_mode": {
    "name": "ipython",
    "version": 3
   },
   "file_extension": ".py",
   "mimetype": "text/x-python",
   "name": "python",
   "nbconvert_exporter": "python",
   "pygments_lexer": "ipython3",
   "version": "3.7.6"
  }
 },
 "nbformat": 4,
 "nbformat_minor": 1
}
